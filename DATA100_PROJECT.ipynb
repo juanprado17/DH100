{
  "nbformat": 4,
  "nbformat_minor": 0,
  "metadata": {
    "colab": {
      "name": "DATA100_PROJECT",
      "provenance": [],
      "authorship_tag": "ABX9TyO+pwxhrhJh7qop3LJoIVT1",
      "include_colab_link": true
    },
    "kernelspec": {
      "name": "python3",
      "display_name": "Python 3"
    },
    "language_info": {
      "name": "python"
    }
  },
  "cells": [
    {
      "cell_type": "markdown",
      "metadata": {
        "id": "view-in-github",
        "colab_type": "text"
      },
      "source": [
        "<a href=\"https://colab.research.google.com/github/juanprado17/DH100/blob/main/DATA100_PROJECT.ipynb\" target=\"_parent\"><img src=\"https://colab.research.google.com/assets/colab-badge.svg\" alt=\"Open In Colab\"/></a>"
      ]
    },
    {
      "cell_type": "code",
      "metadata": {
        "id": "j8TDB3GHLzhZ"
      },
      "source": [
        "import re\n",
        "import nltk\n",
        "import time\n",
        "import numpy as np\n",
        "import scipy.stats\n",
        "import pandas as pd\n",
        "import seaborn as sns\n",
        "import matplotlib.pyplot as plt\n",
        "from wordcloud import WordCloud\n",
        "from IPython.display import HTML\n",
        "import matplotlib.ticker as ticker\n",
        "import matplotlib.font_manager as fm\n",
        "from nltk.tokenize import sent_tokenize\n",
        "import matplotlib.animation as animation\n",
        "\n",
        "#This is just so I am able to see all the rows in the dataset instead of only\n",
        "#seeing part of the data.\n",
        "pd.set_option(\"max_rows\", 999)"
      ],
      "execution_count": null,
      "outputs": []
    },
    {
      "cell_type": "markdown",
      "metadata": {
        "id": "nwoEzqaQRkid"
      },
      "source": [
        "#Research Question #1"
      ]
    },
    {
      "cell_type": "code",
      "metadata": {
        "id": "P70wFoU-L9pl"
      },
      "source": [
        "#The MLS salaries dataset contains all of the earnings in dollars of over five thousand MLS soccer players.\n",
        "#The data that is going to be analyzed ranges from the year 2007 through 2017. The data in fact has two columns \n",
        "#in which it gives the base salary in one of the columns and guarenteed compensation in the other column. For the \n",
        "#matter of simplicity we are going to compare the players salaries by only looking at the guarenteed compensation.\n",
        "salaries_07 = pd.read_csv(\"mls-salaries-2007.csv\")\n",
        "salaries_08 = pd.read_csv(\"mls-salaries-2008.csv\")\n",
        "salaries_09 = pd.read_csv(\"mls-salaries-2009.csv\")\n",
        "salaries_10 = pd.read_csv(\"mls-salaries-2010.csv\")\n",
        "salaries_11 = pd.read_csv(\"mls-salaries-2011.csv\")\n",
        "salaries_12 = pd.read_csv(\"mls-salaries-2012.csv\")\n",
        "salaries_13 = pd.read_csv(\"mls-salaries-2013.csv\")\n",
        "salaries_14 = pd.read_csv(\"mls-salaries-2014.csv\")\n",
        "salaries_15 = pd.read_csv(\"mls-salaries-2015.csv\")\n",
        "salaries_16 = pd.read_csv(\"mls-salaries-2016.csv\")\n",
        "salaries_17 = pd.read_csv(\"mls-salaries-2017.csv\")"
      ],
      "execution_count": null,
      "outputs": []
    },
    {
      "cell_type": "markdown",
      "metadata": {
        "id": "-nLMMiezYxKi"
      },
      "source": [
        "###Data Cleaning"
      ]
    },
    {
      "cell_type": "code",
      "metadata": {
        "id": "W1DXXgnBaTfC"
      },
      "source": [
        "#Data Cleaning:\n",
        "#Using the .dropna() function in order to avoid using data that has missing values. \n",
        "#Basically, what the .dropna() function is saying is, \"drop the row with at least one element missing\"\n",
        "#Source: https://www.w3resource.com/pandas/dataframe/dataframe-dropna.php\n",
        "#2007 data:\n",
        "new_salaries_07 = salaries_07.dropna()\n",
        "new_salaries_07.drop('base_salary', axis = 1, inplace = True)\n",
        "new_salaries_07.sort_values(by = ['position'])\n",
        "\n",
        "#2008 data:\n",
        "new_salaries_08 = salaries_08.dropna()\n",
        "new_salaries_08.drop('base_salary', axis = 1, inplace = True)\n",
        "new_salaries_08.sort_values(by = ['position'])\n",
        "\n",
        "#2009 data:\n",
        "new_salaries_09 = salaries_09.dropna()\n",
        "new_salaries_09.drop('base_salary', axis = 1, inplace = True)\n",
        "new_salaries_09.sort_values(by = ['position'])\n",
        "\n",
        "#2010 data:\n",
        "new_salaries_10 = salaries_10.dropna()\n",
        "new_salaries_10.drop('base_salary', axis = 1, inplace = True)\n",
        "new_salaries_10.sort_values(by = ['position'])\n",
        "\n",
        "#2011 data:\n",
        "new_salaries_11 = salaries_11.dropna()\n",
        "new_salaries_11.drop('base_salary', axis = 1, inplace = True)\n",
        "new_salaries_11.sort_values(by = ['position'])\n",
        "\n",
        "#2012 data:\n",
        "new_salaries_12 = salaries_12.dropna()\n",
        "new_salaries_12.drop('base_salary', axis = 1, inplace = True)\n",
        "new_salaries_12.sort_values(by = ['position'])\n",
        "\n",
        "#2013 data:\n",
        "new_salaries_13 = salaries_13.dropna()\n",
        "new_salaries_13.drop('base_salary', axis = 1, inplace = True)\n",
        "new_salaries_13.sort_values(by = ['position'])\n",
        "\n",
        "#2014 data:\n",
        "new_salaries_14 = salaries_14.dropna()\n",
        "new_salaries_14.drop('base_salary', axis = 1, inplace = True)\n",
        "new_salaries_14.sort_values(by = ['position'])\n",
        "\n",
        "#2015 data:\n",
        "new_salaries_15 = salaries_15.dropna()\n",
        "new_salaries_15.drop('base_salary', axis = 1, inplace = True)\n",
        "new_salaries_15.sort_values(by = ['position'])\n",
        "\n",
        "#2016 data:\n",
        "new_salaries_16 = salaries_16.dropna()\n",
        "new_salaries_16.drop('base_salary', axis = 1, inplace = True)\n",
        "new_salaries_16.sort_values(by = ['position'])\n",
        "\n",
        "#2017 data:\n",
        "new_salaries_17 = salaries_17.dropna()\n",
        "new_salaries_17.drop('base_salary', axis = 1, inplace = True)\n",
        "new_salaries_17.sort_values(by = ['position'])"
      ],
      "execution_count": null,
      "outputs": []
    },
    {
      "cell_type": "code",
      "metadata": {
        "id": "R8hXmCyTOjac"
      },
      "source": [
        "#This is just to test if we are able to see our original data set after we made edits in [2]\n",
        "salaries_07\n",
        "salaries_08\n",
        "salaries_09\n",
        "salaries_10\n",
        "salaries_11\n",
        "salaries_12\n",
        "salaries_13\n",
        "salaries_14\n",
        "salaries_15\n",
        "salaries_16\n",
        "salaries_17"
      ],
      "execution_count": null,
      "outputs": []
    },
    {
      "cell_type": "code",
      "metadata": {
        "id": "xSQ2QJqQWUFt",
        "colab": {
          "base_uri": "https://localhost:8080/"
        },
        "outputId": "d93b950c-8968-45a4-bc73-783b3f570a5e"
      },
      "source": [
        "#Now that we have all of our data in alphabetical order based on position we can now grab the rows that contain each distinct \n",
        "#position and sum up the 'guarenteed_compensation' column to help answer our research question. The dataset was inconsistent \n",
        "#with the abbreviations of the specific positions of the players so I decided to just categorize the posotions into more \n",
        "#general descriptions. For example, GK = Goalkeeper, D = Defense, M = Midfield, F = Forward. The reason is because in the\n",
        "#dataset Defense is represented as D, F-D, D-F, Midfield is represented as M, D-M, M-D, M-F, M/F, MF, Forward is represented as\n",
        "#F, F-M, F/M, and Goalkeeper is just GK. A bit confusing but, being able to narrow it down and making these bins make it a little\n",
        "#more understandable. \n",
        "\n",
        "#I will extract these four different positions from 'new_salaries_07' to compare and help answer the first research question.\n",
        "#In order to do this I will use some methods of row extraction. For the extraction of multiple subgroups I will use the .isin() function.\n",
        "#Source: https://colab.research.google.com/github/jigsawlabs-student/pandas-free-curriculum/blob/master/4-selecting-rows-lab.ipynb\n",
        "#Source: https://stackoverflow.com/questions/36410075/select-rows-from-a-dataframe-based-on-multiple-values-in-a-column-in-pandas\n",
        "\n",
        "#2007 Dataset:\n",
        "GK_07 = new_salaries_07[new_salaries_07['position'] == 'GK']  \n",
        "D_07 = new_salaries_07[new_salaries_07['position'].isin(['D', 'F-D', 'D-F'])]  \n",
        "M_07 = new_salaries_07[new_salaries_07['position'].isin(['M', 'D-M', 'M-D', 'M-F', 'M/F', 'MF'])]\n",
        "F_07 = new_salaries_07[new_salaries_07['position'].isin(['F', 'F-M', 'F/M'])]\n",
        "\n",
        "#We will then sum up the 'guaranteed_compensation' column in order to find out which position genereated the highest total salary\n",
        "#over the years. To do this we will use the sum() function\n",
        "sum_GK_07 = GK_07['guaranteed_compensation'].sum()\n",
        "sum_GK_07\n",
        "\n",
        "sum_D_07 = D_07['guaranteed_compensation'].sum()\n",
        "sum_D_07\n",
        "\n",
        "#For some reason the cents are added up weird. Assuming it's .41 cents\n",
        "sum_M_07 = M_07['guaranteed_compensation'].sum()\n",
        "sum_M_07\n",
        "\n",
        "sum_F_07 = F_07['guaranteed_compensation'].sum()\n",
        "sum_F_07\n",
        "\n",
        "#2008 Dataset\n",
        "GK_08 = new_salaries_08[new_salaries_08['position'] == 'GK']  \n",
        "D_08 = new_salaries_08[new_salaries_08['position'].isin(['D', 'F-D', 'D-F'])]  \n",
        "M_08 = new_salaries_08[new_salaries_08['position'].isin(['M', 'D-M', 'M-D', 'M-F', 'M/F', 'MF'])]\n",
        "F_08 = new_salaries_08[new_salaries_08['position'].isin(['F', 'F-M', 'F/M'])]\n",
        "\n",
        "sum_GK_08 = GK_08['guaranteed_compensation'].sum()\n",
        "sum_GK_08\n",
        "\n",
        "sum_D_08 = D_08['guaranteed_compensation'].sum()\n",
        "sum_D_08\n",
        "\n",
        "sum_M_08 = M_08['guaranteed_compensation'].sum()\n",
        "sum_M_08\n",
        "\n",
        "sum_F_08 = F_08['guaranteed_compensation'].sum()\n",
        "sum_F_08\n",
        "\n",
        "#2009 Dataset:\n",
        "GK_09 = new_salaries_09[new_salaries_09['position'] == 'GK']  \n",
        "D_09 = new_salaries_09[new_salaries_09['position'].isin(['D', 'F-D', 'D-F'])]  \n",
        "M_09 = new_salaries_09[new_salaries_09['position'].isin(['M', 'D-M', 'M-D', 'M-F', 'M/F', 'MF'])]\n",
        "F_09 = new_salaries_09[new_salaries_09['position'].isin(['F', 'F-M', 'F/M'])]\n",
        "\n",
        "sum_GK_09 = GK_09['guaranteed_compensation'].sum()\n",
        "sum_GK_09\n",
        "\n",
        "sum_D_09 = D_09['guaranteed_compensation'].sum()\n",
        "sum_D_09\n",
        "\n",
        "sum_M_09 = M_09['guaranteed_compensation'].sum()\n",
        "sum_M_09\n",
        "\n",
        "sum_F_09 = F_09['guaranteed_compensation'].sum()\n",
        "sum_F_09\n",
        "\n",
        "#2010 Dataset:\n",
        "GK_10 = new_salaries_10[new_salaries_10['position'] == 'GK']  \n",
        "D_10 = new_salaries_10[new_salaries_10['position'].isin(['D', 'F-D', 'D-F'])]  \n",
        "M_10 = new_salaries_10[new_salaries_10['position'].isin(['M', 'D-M', 'M-D', 'M-F', 'M/F', 'MF'])]\n",
        "F_10 = new_salaries_10[new_salaries_10['position'].isin(['F', 'F-M', 'F/M'])]\n",
        "\n",
        "sum_GK_10 = GK_10['guaranteed_compensation'].sum()\n",
        "sum_GK_10\n",
        "\n",
        "sum_D_10 = D_10['guaranteed_compensation'].sum()\n",
        "sum_D_10\n",
        "\n",
        "sum_M_10 = M_10['guaranteed_compensation'].sum()\n",
        "sum_M_10\n",
        "\n",
        "sum_F_10 = F_10['guaranteed_compensation'].sum()\n",
        "sum_F_10\n",
        "\n",
        "#2011 Dataset:\n",
        "GK_11 = new_salaries_11[new_salaries_11['position'] == 'GK']  \n",
        "D_11 = new_salaries_11[new_salaries_11['position'].isin(['D', 'F-D', 'D-F'])]  \n",
        "M_11 = new_salaries_11[new_salaries_11['position'].isin(['M', 'D-M', 'M-D', 'M-F', 'M/F', 'MF'])]\n",
        "F_11 = new_salaries_11[new_salaries_11['position'].isin(['F', 'F-M', 'F/M'])]\n",
        "\n",
        "sum_GK_11 = GK_11['guaranteed_compensation'].sum()\n",
        "sum_GK_11\n",
        "\n",
        "sum_D_11 = D_11['guaranteed_compensation'].sum()\n",
        "sum_D_11\n",
        "\n",
        "sum_M_11 = M_11['guaranteed_compensation'].sum()\n",
        "sum_M_11\n",
        "\n",
        "sum_F_11 = F_11['guaranteed_compensation'].sum()\n",
        "sum_F_11\n",
        "\n",
        "#2012 Dataset:\n",
        "GK_12 = new_salaries_12[new_salaries_12['position'] == 'GK']  \n",
        "D_12 = new_salaries_12[new_salaries_12['position'].isin(['D', 'F-D', 'D-F'])]  \n",
        "M_12 = new_salaries_12[new_salaries_12['position'].isin(['M', 'D-M', 'M-D', 'M-F', 'M/F', 'MF'])]\n",
        "F_12 = new_salaries_12[new_salaries_12['position'].isin(['F', 'F-M', 'F/M'])]\n",
        "\n",
        "sum_GK_12 = GK_12['guaranteed_compensation'].sum()\n",
        "sum_GK_12\n",
        "\n",
        "sum_D_12 = D_12['guaranteed_compensation'].sum()\n",
        "sum_D_12\n",
        "\n",
        "sum_M_12 = M_12['guaranteed_compensation'].sum()\n",
        "sum_M_12\n",
        "\n",
        "sum_F_12 = F_12['guaranteed_compensation'].sum()\n",
        "sum_F_12\n",
        "\n",
        "#2013 Dataset:\n",
        "GK_13 = new_salaries_13[new_salaries_13['position'] == 'GK']  \n",
        "D_13 = new_salaries_13[new_salaries_13['position'].isin(['D', 'F-D', 'D-F'])]  \n",
        "M_13 = new_salaries_13[new_salaries_13['position'].isin(['M', 'D-M', 'M-D', 'M-F', 'M/F', 'MF'])]\n",
        "F_13 = new_salaries_13[new_salaries_13['position'].isin(['F', 'F-M', 'F/M'])]\n",
        "\n",
        "sum_GK_13 = GK_13['guaranteed_compensation'].sum()\n",
        "sum_GK_13\n",
        "\n",
        "sum_D_13 = D_13['guaranteed_compensation'].sum()\n",
        "sum_D_13\n",
        "\n",
        "sum_M_13 = M_13['guaranteed_compensation'].sum()\n",
        "sum_M_13\n",
        "\n",
        "sum_F_13 = F_13['guaranteed_compensation'].sum()\n",
        "sum_F_13\n",
        "\n",
        "#2014 Dataset:\n",
        "GK_14 = new_salaries_14[new_salaries_14['position'] == 'GK']  \n",
        "D_14 = new_salaries_14[new_salaries_14['position'].isin(['D', 'F-D', 'D-F'])]  \n",
        "M_14 = new_salaries_14[new_salaries_14['position'].isin(['M', 'D-M', 'M-D', 'M-F', 'M/F', 'MF'])]\n",
        "F_14 = new_salaries_14[new_salaries_14['position'].isin(['F', 'F-M', 'F/M'])]\n",
        "\n",
        "sum_GK_14 = GK_14['guaranteed_compensation'].sum()\n",
        "sum_GK_14\n",
        "\n",
        "sum_D_14 = D_14['guaranteed_compensation'].sum()\n",
        "sum_D_14\n",
        "\n",
        "sum_M_14 = M_14['guaranteed_compensation'].sum()\n",
        "sum_M_14\n",
        "\n",
        "sum_F_14 = F_14['guaranteed_compensation'].sum()\n",
        "sum_F_14\n",
        "\n",
        "#2015 Dataset:\n",
        "GK_15 = new_salaries_15[new_salaries_15['position'] == 'GK']  \n",
        "D_15 = new_salaries_15[new_salaries_15['position'].isin(['D', 'F-D', 'D-F'])]  \n",
        "M_15 = new_salaries_15[new_salaries_15['position'].isin(['M', 'D-M', 'M-D', 'M-F', 'M/F', 'MF'])]\n",
        "F_15 = new_salaries_15[new_salaries_15['position'].isin(['F', 'F-M', 'F/M'])]\n",
        "\n",
        "sum_GK_15 = GK_15['guaranteed_compensation'].sum()\n",
        "sum_GK_15\n",
        "\n",
        "sum_D_15 = D_15['guaranteed_compensation'].sum()\n",
        "sum_D_15\n",
        "\n",
        "sum_M_15 = M_15['guaranteed_compensation'].sum()\n",
        "sum_M_15\n",
        "\n",
        "sum_F_15 = F_15['guaranteed_compensation'].sum()\n",
        "sum_F_15\n",
        "\n",
        "#2016 Dataset:\n",
        "GK_16 = new_salaries_16[new_salaries_16['position'] == 'GK']  \n",
        "D_16 = new_salaries_16[new_salaries_16['position'].isin(['D', 'F-D', 'D-F'])]  \n",
        "M_16 = new_salaries_16[new_salaries_16['position'].isin(['M', 'D-M', 'M-D', 'M-F', 'M/F', 'MF'])]\n",
        "F_16 = new_salaries_16[new_salaries_16['position'].isin(['F', 'F-M', 'F/M'])]\n",
        "\n",
        "sum_GK_16 = GK_16['guaranteed_compensation'].sum()\n",
        "sum_GK_16\n",
        "\n",
        "sum_D_16 = D_16['guaranteed_compensation'].sum()\n",
        "sum_D_16\n",
        "\n",
        "sum_M_16 = M_16['guaranteed_compensation'].sum()\n",
        "sum_M_16\n",
        "\n",
        "sum_F_16 = F_16['guaranteed_compensation'].sum()\n",
        "sum_F_16\n",
        "\n",
        "#2017 Dataset:\n",
        "GK_17 = new_salaries_17[new_salaries_17['position'] == 'GK']  \n",
        "D_17 = new_salaries_17[new_salaries_17['position'].isin(['D', 'F-D', 'D-F'])]  \n",
        "M_17 = new_salaries_17[new_salaries_17['position'].isin(['M', 'D-M', 'M-D', 'M-F', 'M/F', 'MF'])]\n",
        "F_17 = new_salaries_17[new_salaries_17['position'].isin(['F', 'F-M', 'F/M'])]\n",
        "\n",
        "sum_GK_17 = GK_17['guaranteed_compensation'].sum()\n",
        "sum_GK_17\n",
        "\n",
        "sum_D_17 = D_17['guaranteed_compensation'].sum()\n",
        "sum_D_17\n",
        "\n",
        "sum_M_17 = M_17['guaranteed_compensation'].sum()\n",
        "sum_M_17\n",
        "\n",
        "sum_F_17 = F_17['guaranteed_compensation'].sum()\n",
        "sum_F_17"
      ],
      "execution_count": null,
      "outputs": [
        {
          "output_type": "execute_result",
          "data": {
            "text/plain": [
              "63045355.34"
            ]
          },
          "metadata": {
            "tags": []
          },
          "execution_count": 18
        }
      ]
    },
    {
      "cell_type": "code",
      "metadata": {
        "id": "U1s79mqbbBIF"
      },
      "source": [
        "GK_17"
      ],
      "execution_count": null,
      "outputs": []
    },
    {
      "cell_type": "markdown",
      "metadata": {
        "id": "Gqjn15plY-cG"
      },
      "source": [
        "##Research Question #1 Graphs "
      ]
    },
    {
      "cell_type": "code",
      "metadata": {
        "id": "MP_DoamDdeh0",
        "colab": {
          "base_uri": "https://localhost:8080/",
          "height": 311
        },
        "outputId": "ef8397d1-93fe-4d13-ecaf-9af419d50a6e"
      },
      "source": [
        "#This graph is going to represent the GK salaries from 2007-2017.\n",
        "#Source: https://pandas.pydata.org/pandas-docs/stable/reference/api/pandas.DataFrame.plot.bar.html#pandas.DataFrame.plot.bar\n",
        "GK_graph = pd.DataFrame({'Year':['2007', '2008', '2009', '2010', '2011', '2012', \n",
        "                                 '2013', '2014', '2015', '2016', '2017'], 'Salary'\n",
        "                                 :[2520132.1, 2791094.95, 3347687.36, 4136779.99, 6103987.79, \n",
        "                                   5410775.54, 6168036.83, 5929929.66, 6796012.28, 9963257.36, 10313235.12]})\n",
        "ax = GK_graph.plot.bar(x = 'Year', y = 'Salary', rot = 50)\n",
        "\n",
        "#Source:https://stackoverflow.com/questions/46735745/how-to-control-scientific-notation-in-matplotlib\n",
        "plt.ticklabel_format(style='plain', axis='y')\n",
        "plt.title('Goalkeepers Total Salaries/Year');\n",
        "plt.xlabel('Year')\n",
        "plt.ylabel('Sum of Salaries/Year')\n",
        "plt.ylim(0, 12000000)\n",
        "ax.get_legend().remove()"
      ],
      "execution_count": null,
      "outputs": [
        {
          "output_type": "display_data",
          "data": {
            "image/png": "[encoded data removed]",
            "text/plain": [
              "<Figure size 432x288 with 1 Axes>"
            ]
          },
          "metadata": {
            "tags": [],
            "needs_background": "light"
          }
        }
      ]
    },
    {
      "cell_type": "code",
      "metadata": {
        "id": "ARQ8jd0RJCuX",
        "colab": {
          "base_uri": "https://localhost:8080/",
          "height": 311
        },
        "outputId": "3d6b5207-67a9-4830-bad6-7c777626d013"
      },
      "source": [
        "#This graph is going to represent the D salaries from 2007-2017.\n",
        "D_graph = pd.DataFrame({'Year':['2007', '2008', '2009', '2010', '2011', '2012', \n",
        "                                 '2013', '2014', '2015', '2016', '2017'], 'Salary'\n",
        "                                 :[7070760.85, 9423866.62, 9775513.43, 16601872.97, 17823967.0, \n",
        "                                   21534705.95, 18175655.92, 23533773.13, 25674896.03, 26387530.81, 32760305.86]})\n",
        "ax = D_graph.plot.bar(x = 'Year', y = 'Salary', rot = 50)\n",
        "\n",
        "plt.ticklabel_format(style='plain', axis='y')\n",
        "plt.title('Defenders Total Salaries/Year');\n",
        "plt.xlabel('Year')\n",
        "plt.ylabel('Sum of Salaries/Year')\n",
        "plt.ylim(0, 35000000)\n",
        "ax.get_legend().remove()"
      ],
      "execution_count": null,
      "outputs": [
        {
          "output_type": "display_data",
          "data": {
            "image/png": "[encoded data removed]",
            "text/plain": [
              "<Figure size 432x288 with 1 Axes>"
            ]
          },
          "metadata": {
            "tags": [],
            "needs_background": "light"
          }
        }
      ]
    },
    {
      "cell_type": "code",
      "metadata": {
        "id": "hZT_FpkbKWJH",
        "colab": {
          "base_uri": "https://localhost:8080/",
          "height": 311
        },
        "outputId": "d70d77e6-91b0-4aea-8d30-910def6f9742"
      },
      "source": [
        "#This graph is going to represent the M salaries from 2007-2017.\n",
        "M_graph = pd.DataFrame({'Year':['2007', '2008', '2009', '2010', '2011', '2012', \n",
        "                                 '2013', '2014', '2015', '2016', '2017'], 'Salary'\n",
        "                                 :[19357582.41, 23474752.75, 26028285.26, 28553760.2, 33053858.82, \n",
        "                                   38192936.12, 30707560.97, 41074803.45, 73164563.82, 70854407.82, 85662614.21]})\n",
        "ax = M_graph.plot.bar(x = 'Year', y = 'Salary', rot = 50)\n",
        "\n",
        "plt.ticklabel_format(style='plain', axis='y')\n",
        "plt.title('Midfielders Total Salaries/Year');\n",
        "plt.xlabel('Year')\n",
        "plt.ylabel('Sum of Salaries/Year')\n",
        "plt.ylim(0, 87000000)\n",
        "ax.get_legend().remove()"
      ],
      "execution_count": null,
      "outputs": [
        {
          "output_type": "display_data",
          "data": {
            "image/png": "[encoded data removed]",
            "text/plain": [
              "<Figure size 432x288 with 1 Axes>"
            ]
          },
          "metadata": {
            "tags": [],
            "needs_background": "light"
          }
        }
      ]
    },
    {
      "cell_type": "code",
      "metadata": {
        "id": "X1umWt3z7sTF",
        "colab": {
          "base_uri": "https://localhost:8080/",
          "height": 311
        },
        "outputId": "be99a90c-d0c1-438d-a922-3aa84c98438d"
      },
      "source": [
        "#This graph is going to represent the F salaries from 2007-2017.\n",
        "M_graph = pd.DataFrame({'Year':['2007', '2008', '2009', '2010', '2011', '2012', \n",
        "                                 '2013', '2014', '2015', '2016', '2017'], 'Salary'\n",
        "                                 :[13275184.71, 11602794.89, 12726564.44, 22012559.54, 27562666.20, \n",
        "                                   33434759.67, 38911813.58, 50341870.21, 52794841.19, 59956217.33, 63045355.34]})\n",
        "ax = M_graph.plot.bar(x = 'Year', y = 'Salary', rot = 50)\n",
        "\n",
        "plt.ticklabel_format(style='plain', axis='y')\n",
        "plt.title('Forwards Total Salaries/Year');\n",
        "plt.xlabel('Year')\n",
        "plt.ylabel('Sum of Salaries/Year')\n",
        "plt.ylim(0, 65000000)\n",
        "ax.get_legend().remove()"
      ],
      "execution_count": null,
      "outputs": [
        {
          "output_type": "display_data",
          "data": {
            "image/png": "[encoded data removed]",
            "text/plain": [
              "<Figure size 432x288 with 1 Axes>"
            ]
          },
          "metadata": {
            "tags": [],
            "needs_background": "light"
          }
        }
      ]
    },
    {
      "cell_type": "markdown",
      "metadata": {
        "id": "rO7rgPkQRSFA"
      },
      "source": [
        "#Research Question #2"
      ]
    },
    {
      "cell_type": "markdown",
      "metadata": {
        "id": "wrxlf9RsY_oV"
      },
      "source": [
        "##Data Cleaning"
      ]
    },
    {
      "cell_type": "code",
      "metadata": {
        "id": "56SgFtNwq_Sz"
      },
      "source": [
        "#Alternative:\n",
        "#find the player that earned the highest each yean and graph accordingly using \n",
        "#a scatter plot.\n",
        "\n",
        "#2007 data\n",
        "#Source:https://www.kite.com/python/answers/how-to-find-the-max-value-of-a-pandas-dataframe-column-in-python\n",
        "player_salaries_07 = salaries_07.dropna() #maybe I don't need these. Check after.\n",
        "player_salaries_07.drop('base_salary', axis = 1, inplace = True)\n",
        "\n",
        "col_07 = player_salaries_07[\"guaranteed_compensation\"]\n",
        "col_07\n",
        "max_07 = col_07.max()\n",
        "max_07\n",
        "\n",
        "#2008 data\n",
        "player_salaries_08 = salaries_08.dropna() \n",
        "player_salaries_08.drop('base_salary', axis = 1, inplace = True)\n",
        "\n",
        "col_08 = player_salaries_08[\"guaranteed_compensation\"]\n",
        "col_08\n",
        "max_08 = col_08.max()\n",
        "max_08\n",
        "\n",
        "#2009 data\n",
        "player_salaries_09 = salaries_09.dropna() \n",
        "player_salaries_09.drop('base_salary', axis = 1, inplace = True)\n",
        "\n",
        "col_09 = player_salaries_09[\"guaranteed_compensation\"]\n",
        "col_09\n",
        "max_09 = col_09.max()\n",
        "max_09\n",
        "\n",
        "#2010 data\n",
        "player_salaries_10 = salaries_10.dropna() \n",
        "player_salaries_10.drop('base_salary', axis = 1, inplace = True)\n",
        "\n",
        "col_10 = player_salaries_10[\"guaranteed_compensation\"]\n",
        "col_10\n",
        "max_10 = col_10.max()\n",
        "max_10\n",
        "\n",
        "#2011 data \n",
        "player_salaries_11 = salaries_11.dropna() \n",
        "player_salaries_11.drop('base_salary', axis = 1, inplace = True)\n",
        "\n",
        "col_11 = player_salaries_11[\"guaranteed_compensation\"]\n",
        "col_11\n",
        "max_11 = col_11.max()\n",
        "max_11\n",
        "\n",
        "#2012 data\n",
        "player_salaries_12 = salaries_12.dropna() \n",
        "player_salaries_12.drop('base_salary', axis = 1, inplace = True)\n",
        "\n",
        "col_12 = salaries_12[\"guaranteed_compensation\"]\n",
        "col_12\n",
        "max_12 = col_12.max()\n",
        "max_12\n",
        "\n",
        "#2013 data\n",
        "player_salaries_13 = salaries_13.dropna() \n",
        "player_salaries_13.drop('base_salary', axis = 1, inplace = True)\n",
        "\n",
        "col_13 = player_salaries_13[\"guaranteed_compensation\"]\n",
        "col_13\n",
        "max_13 = col_13.max()\n",
        "max_13\n",
        "\n",
        "#2014 data\n",
        "player_salaries_14 = salaries_14.dropna() \n",
        "player_salaries_14.drop('base_salary', axis = 1, inplace = True)\n",
        "\n",
        "col_14 = player_salaries_14[\"guaranteed_compensation\"]\n",
        "col_14\n",
        "max_14 = col_14.max()\n",
        "max_14\n",
        "\n",
        "#2015 data\n",
        "player_salaries_15 = salaries_15.dropna() \n",
        "player_salaries_15.drop('base_salary', axis = 1, inplace = True)\n",
        "\n",
        "col_15 = player_salaries_15[\"guaranteed_compensation\"]\n",
        "col_15\n",
        "max_15 = col_15.max()\n",
        "max_15\n",
        "\n",
        "#2016 data\n",
        "player_salaries_16 = salaries_16.dropna() \n",
        "player_salaries_16.drop('base_salary', axis = 1, inplace = True)\n",
        "\n",
        "col_16 = player_salaries_16[\"guaranteed_compensation\"]\n",
        "col_16\n",
        "max_16 = col_16.max()\n",
        "max_16\n",
        "\n",
        "#2017 data\n",
        "player_salaries_17 = salaries_17.dropna() \n",
        "player_salaries_17.drop('base_salary', axis = 1, inplace = True)\n",
        "\n",
        "col_17 = player_salaries_17[\"guaranteed_compensation\"]\n",
        "col_17\n",
        "max_17 = col_17.max()\n",
        "max_17"
      ],
      "execution_count": null,
      "outputs": []
    },
    {
      "cell_type": "code",
      "metadata": {
        "colab": {
          "base_uri": "https://localhost:8080/"
        },
        "id": "VT4uHSxqtJDz",
        "outputId": "adf70d3b-525a-42b9-96c6-2ce0bf67da0f"
      },
      "source": [
        "max_07"
      ],
      "execution_count": null,
      "outputs": [
        {
          "output_type": "execute_result",
          "data": {
            "text/plain": [
              "6500000.04"
            ]
          },
          "metadata": {
            "tags": []
          },
          "execution_count": 12
        }
      ]
    },
    {
      "cell_type": "code",
      "metadata": {
        "colab": {
          "base_uri": "https://localhost:8080/",
          "height": 312
        },
        "id": "YpARcKoCRU3f",
        "outputId": "759c6686-f5ca-4482-9416-0d281513943d"
      },
      "source": [
        "x_max = ([2007, 2008, 2009, 2010, 2011, 2012, 2013, 2014, 2015, 2016, 2017]) \n",
        "y_max = ([6500000.04, 6500000.04, 6500000.04, 6500000.04, 6500000.04, 5600000.0, 5038566.5, \n",
        "          7167500.0, 7167500.0, 7167500.0, 7167500.0 ])\n",
        "\n",
        "\n",
        "plt.scatter(x_max, y_max)\n",
        "plt.title('Highest Salary Earned by Player From 2007-2017')\n",
        "plt.xlabel('Year')\n",
        "plt.ylabel('Salary')"
      ],
      "execution_count": null,
      "outputs": [
        {
          "output_type": "execute_result",
          "data": {
            "text/plain": [
              "Text(0, 0.5, 'Salary')"
            ]
          },
          "metadata": {
            "tags": []
          },
          "execution_count": 13
        },
        {
          "output_type": "display_data",
          "data": {
            "image/png": "[encoded data removed]",
            "text/plain": [
              "<Figure size 432x288 with 1 Axes>"
            ]
          },
          "metadata": {
            "tags": [],
            "needs_background": "light"
          }
        }
      ]
    },
    {
      "cell_type": "code",
      "metadata": {
        "id": "_gzImjAmdaOh"
      },
      "source": [
        ""
      ],
      "execution_count": null,
      "outputs": []
    },
    {
      "cell_type": "code",
      "metadata": {
        "colab": {
          "base_uri": "https://localhost:8080/"
        },
        "id": "Vc-hCtozE3TR",
        "outputId": "249f4ce6-b5af-4a29-93f3-3a27e26d945c"
      },
      "source": [
        ""
      ],
      "execution_count": null,
      "outputs": [
        {
          "output_type": "execute_result",
          "data": {
            "text/plain": [
              "<matplotlib.axes._subplots.AxesSubplot at 0x7f99a46fe1d0>"
            ]
          },
          "metadata": {
            "tags": []
          },
          "execution_count": 90
        }
      ]
    },
    {
      "cell_type": "markdown",
      "metadata": {
        "id": "3M7q7tI3jSld"
      },
      "source": [
        ""
      ]
    },
    {
      "cell_type": "markdown",
      "metadata": {
        "id": "KBY8xcoojVMU"
      },
      "source": [
        "#Research Question #3"
      ]
    },
    {
      "cell_type": "code",
      "metadata": {
        "id": "wVvKIF7Qjf2N",
        "colab": {
          "base_uri": "https://localhost:8080/"
        },
        "outputId": "ecd68a75-c340-4aff-eee2-72fbc1b2b121"
      },
      "source": [
        "#The plan here is to find out how team salaries changed over time. We are going\n",
        "#to do this by makinf a scatter plot consisting of the sum of each individuak team\n",
        "#per year. We are going to be displaying that changes over time in the same graph.\n",
        "#The audience is going to be able to tell them apart by having each years data be \n",
        "#a different color. A legend will be added to help with the distinction.\n",
        "player_salaries_07 = salaries_07.dropna() \n",
        "player_salaries_07.drop('base_salary', axis = 1, inplace = True)\n",
        "\n",
        "#First, we will need to extract each team individually and calculate the total \n",
        "#sum of the 'guaranteed_compensation' column. We will do this by usng the \n",
        "#.isin function.\n",
        "#2007 data:\n",
        "ATL_07 = player_salaries_07[player_salaries_07['club'].isin(['ATL'])]\n",
        "sum_ATL_07 = ATL_07['guaranteed_compensation'].sum()\n",
        "\n",
        "CHI_07 = player_salaries_07[player_salaries_07['club'].isin(['CHI'])]  \n",
        "sum_CHI_07 = CHI_07['guaranteed_compensation'].sum()\n",
        "\n",
        "CHV_07 = player_salaries_07[player_salaries_07['club'].isin(['CHV'])] \n",
        "sum_CHV_07 = CHV_07['guaranteed_compensation'].sum()\n",
        "\n",
        "CLB_07 = player_salaries_07[player_salaries_07['club'].isin(['CLB'])]  \n",
        "sum_CLB_07 = CLB_07['guaranteed_compensation'].sum()\n",
        "\n",
        "COL_07 = player_salaries_07[player_salaries_07['club'].isin(['COL'])]  \n",
        "sum_COL_07 = COL_07['guaranteed_compensation'].sum()\n",
        "\n",
        "DAL_07 = player_salaries_07[player_salaries_07['club'].isin(['DAL'])]  \n",
        "sum_DAL_07 = DAL_07['guaranteed_compensation'].sum()\n",
        "\n",
        "DC_07 = player_salaries_07[player_salaries_07['club'].isin(['DC'])] \n",
        "sum_DC_07 = DC_07['guaranteed_compensation'].sum()\n",
        "\n",
        "HOU_07 = player_salaries_07[player_salaries_07['club'].isin(['HOU'])]  \n",
        "sum_HOU_07 = HOU_07['guaranteed_compensation'].sum()\n",
        "\n",
        "KC_07 = player_salaries_07[player_salaries_07['club'].isin(['KC'])]  \n",
        "sum_KC_07 = KC_07['guaranteed_compensation'].sum()\n",
        "\n",
        "LA_07 = player_salaries_07[player_salaries_07['club'].isin(['LA'])]  \n",
        "sum_LA_07 = LA_07['guaranteed_compensation'].sum()\n",
        "\n",
        "LAFC_07 = player_salaries_07[player_salaries_07['club'].isin(['LAFC'])] \n",
        "sum_LAFC_07 = LAFC_07['guaranteed_compensation'].sum()\n",
        "\n",
        "MNUFC_07 = player_salaries_07[player_salaries_07['club'].isin(['MNUFC'])]\n",
        "sum_MNUFC_07 = MNUFC_07['guaranteed_compensation'].sum()\n",
        "\n",
        "MTL_07 = player_salaries_07[player_salaries_07['club'].isin(['MTL'])] \n",
        "sum_MTL_07 = MTL_07['guaranteed_compensation'].sum()\n",
        "\n",
        "NE_07 = player_salaries_07[player_salaries_07['club'].isin(['NE'])]  \n",
        "sum_NE_07 = NE_07['guaranteed_compensation'].sum()\n",
        "\n",
        "NY_07 = player_salaries_07[player_salaries_07['club'].isin(['NY'])]\n",
        "sum_NY_07 = NY_07['guaranteed_compensation'].sum()\n",
        "\n",
        "NYCFC_07 = player_salaries_07[player_salaries_07['club'].isin(['NYCFC'])]\n",
        "sum_NYCFC_07 = NYCFC_07['guaranteed_compensation'].sum()\n",
        "\n",
        "NYRB_07 = player_salaries_07[player_salaries_07['club'].isin(['NYRB'])]  \n",
        "sum_NYRB_07 = NYRB_07['guaranteed_compensation'].sum()\n",
        "\n",
        "ORL_07 = player_salaries_07[player_salaries_07['club'].isin(['ORL'])]  \n",
        "sum_ORL_07 = ORL_07['guaranteed_compensation'].sum()\n",
        "\n",
        "PHI_07 = player_salaries_07[player_salaries_07['club'].isin(['PHI'])]  \n",
        "sum_PHI_07 = PHI_07['guaranteed_compensation'].sum()\n",
        "\n",
        "POR_07 = player_salaries_07[player_salaries_07['club'].isin(['POR'])]\n",
        "sum_POR_07 = POR_07['guaranteed_compensation'].sum()\n",
        "\n",
        "RSL_07 = player_salaries_07[player_salaries_07['club'].isin(['RSL'])]  \n",
        "sum_RSL_07 = RSL_07['guaranteed_compensation'].sum()\n",
        "\n",
        "SEA_07 = player_salaries_07[player_salaries_07['club'].isin(['SEA'])] \n",
        "sum_SEA_07 = SEA_07['guaranteed_compensation'].sum()\n",
        "\n",
        "SJ_07 = player_salaries_07[player_salaries_07['club'].isin(['SJ'])]\n",
        "sum_SJ_07 = SJ_07['guaranteed_compensation'].sum()\n",
        "\n",
        "TFC_07 = player_salaries_07[player_salaries_07['club'].isin(['TFC'])]  \n",
        "sum_TFC_07 = TFC_07['guaranteed_compensation'].sum()\n",
        "\n",
        "TOR_07 = player_salaries_07[player_salaries_07['club'].isin(['TOR'])]  \n",
        "sum_TOR_07 = TOR_07['guaranteed_compensation'].sum()\n",
        "\n",
        "VAN_07 = player_salaries_07[player_salaries_07['club'].isin(['VAN'])] \n",
        "sum_VAN_07 = VAN_07['guaranteed_compensation'].sum()\n",
        "\n",
        "#2008 data:\n",
        "player_salaries_08 = salaries_08.dropna() \n",
        "player_salaries_08.drop('base_salary', axis = 1, inplace = True)\n",
        "\n",
        "ATL_08 = player_salaries_08[player_salaries_08['club'].isin(['ATL'])]\n",
        "sum_ATL_08 = ATL_08['guaranteed_compensation'].sum()\n",
        "\n",
        "CHI_08 = player_salaries_08[player_salaries_08['club'].isin(['CHI'])]  \n",
        "sum_CHI_08 = CHI_08['guaranteed_compensation'].sum()\n",
        "\n",
        "CHV_08 = player_salaries_08[player_salaries_08['club'].isin(['CHV'])] \n",
        "sum_CHV_08 = CHV_08['guaranteed_compensation'].sum()\n",
        "\n",
        "CLB_08 = player_salaries_08[player_salaries_08['club'].isin(['CLB'])]  \n",
        "sum_CLB_08 = CLB_08['guaranteed_compensation'].sum()\n",
        "\n",
        "COL_08 = player_salaries_08[player_salaries_08['club'].isin(['COL'])]  \n",
        "sum_COL_08 = COL_08['guaranteed_compensation'].sum()\n",
        "\n",
        "DAL_08 = player_salaries_08[player_salaries_08['club'].isin(['DAL'])]  \n",
        "sum_DAL_08 = DAL_08['guaranteed_compensation'].sum()\n",
        "\n",
        "DC_08 = player_salaries_08[player_salaries_08['club'].isin(['DC'])] \n",
        "sum_DC_08 = DC_08['guaranteed_compensation'].sum()\n",
        "\n",
        "HOU_08 = player_salaries_08[player_salaries_08['club'].isin(['HOU'])]  \n",
        "sum_HOU_08 = HOU_08['guaranteed_compensation'].sum()\n",
        "\n",
        "KC_08 = player_salaries_08[player_salaries_08['club'].isin(['KC'])]  \n",
        "sum_KC_08 = KC_08['guaranteed_compensation'].sum()\n",
        "\n",
        "LA_08 = player_salaries_08[player_salaries_08['club'].isin(['LA'])]  \n",
        "sum_LA_08 = LA_08['guaranteed_compensation'].sum()\n",
        "\n",
        "LAFC_08 = player_salaries_08[player_salaries_08['club'].isin(['LAFC'])] \n",
        "sum_LAFC_08 = LAFC_08['guaranteed_compensation'].sum()\n",
        "\n",
        "MNUFC_08 = player_salaries_08[player_salaries_08['club'].isin(['MNUFC'])]\n",
        "sum_MNUFC_08 = MNUFC_08['guaranteed_compensation'].sum()\n",
        "\n",
        "MTL_08 = player_salaries_08[player_salaries_08['club'].isin(['MTL'])] \n",
        "sum_MTL_08 = MTL_08['guaranteed_compensation'].sum()\n",
        "\n",
        "NE_08 = player_salaries_08[player_salaries_08['club'].isin(['NE'])]  \n",
        "sum_NE_08 = NE_08['guaranteed_compensation'].sum()\n",
        "\n",
        "NY_08 = player_salaries_08[player_salaries_08['club'].isin(['NY'])]\n",
        "sum_NY_08 = NY_08['guaranteed_compensation'].sum()\n",
        "\n",
        "NYCFC_08 = player_salaries_08[player_salaries_08['club'].isin(['NYCFC'])]\n",
        "sum_NYCFC_08 = NYCFC_08['guaranteed_compensation'].sum()\n",
        "\n",
        "NYRB_08 = player_salaries_08[player_salaries_08['club'].isin(['NYRB'])]  \n",
        "sum_NYRB_08 = NYRB_08['guaranteed_compensation'].sum()\n",
        "\n",
        "ORL_08 = player_salaries_08[player_salaries_08['club'].isin(['ORL'])]  \n",
        "sum_ORL_08 = ORL_08['guaranteed_compensation'].sum()\n",
        "\n",
        "PHI_08 = player_salaries_08[player_salaries_08['club'].isin(['PHI'])]  \n",
        "sum_PHI_08 = PHI_08['guaranteed_compensation'].sum()\n",
        "\n",
        "POR_08 = player_salaries_08[player_salaries_08['club'].isin(['POR'])]\n",
        "sum_POR_08 = POR_08['guaranteed_compensation'].sum()\n",
        "\n",
        "RSL_08 = player_salaries_08[player_salaries_08['club'].isin(['RSL'])]  \n",
        "sum_RSL_08 = RSL_08['guaranteed_compensation'].sum()\n",
        "\n",
        "SEA_08 = player_salaries_08[player_salaries_08['club'].isin(['SEA'])] \n",
        "sum_SEA_08 = SEA_07['guaranteed_compensation'].sum()\n",
        "\n",
        "SJ_08 = player_salaries_08[player_salaries_08['club'].isin(['SJ'])]\n",
        "sum_SJ_08 = SJ_08['guaranteed_compensation'].sum()\n",
        "\n",
        "TFC_08 = player_salaries_08[player_salaries_08['club'].isin(['TFC'])]  \n",
        "sum_TFC_08 = TFC_08['guaranteed_compensation'].sum()\n",
        "\n",
        "TOR_08 = player_salaries_08[player_salaries_08['club'].isin(['TOR'])]  \n",
        "sum_TOR_08 = TOR_08['guaranteed_compensation'].sum()\n",
        "\n",
        "VAN_08 = player_salaries_08[player_salaries_08['club'].isin(['VAN'])] \n",
        "sum_VAN_08 = VAN_08['guaranteed_compensation'].sum()"
      ],
      "execution_count": null,
      "outputs": [
        {
          "output_type": "stream",
          "text": [
            "/usr/local/lib/python3.7/dist-packages/pandas/core/frame.py:4174: SettingWithCopyWarning: \n",
            "A value is trying to be set on a copy of a slice from a DataFrame\n",
            "\n",
            "See the caveats in the documentation: https://pandas.pydata.org/pandas-docs/stable/user_guide/indexing.html#returning-a-view-versus-a-copy\n",
            "  errors=errors,\n"
          ],
          "name": "stderr"
        }
      ]
    },
    {
      "cell_type": "code",
      "metadata": {
        "colab": {
          "base_uri": "https://localhost:8080/"
        },
        "id": "5Lf9cRddHvpd",
        "outputId": "0a065888-9aff-45ac-b99e-8c5dfd85bea7"
      },
      "source": [
        "sum_VAN_08"
      ],
      "execution_count": null,
      "outputs": [
        {
          "output_type": "execute_result",
          "data": {
            "text/plain": [
              "0.0"
            ]
          },
          "metadata": {
            "tags": []
          },
          "execution_count": 38
        }
      ]
    },
    {
      "cell_type": "code",
      "metadata": {
        "colab": {
          "base_uri": "https://localhost:8080/",
          "height": 302
        },
        "id": "r-hwP6QD8Wz9",
        "outputId": "6e23f947-866a-4e12-d8ca-0cf50f6d2a73"
      },
      "source": [
        "#2007 Graph:\n",
        "x_07_club = (['ATL', 'CHI', 'CHV', 'CLB', 'COL', 'DAL', 'DC', 'HOU', 'KC', 'LA', 'LAFC', \n",
        "           'MNUFC', 'MTL', 'NE', 'NY', 'NYCFC', 'NYRB', 'ORL', 'PHI', 'POR', 'RSL' ,\n",
        "           'SEA', 'SJ', 'TFC', 'TOR', 'VAN']) \n",
        "y_07_salaries = ([0, 4716304.5, 1789645.70, 2108226.06, 2281303.0, 3072764.75,\n",
        "               2276390.0, 2434147.09, 2637550.0, 9322054.39, 0, 0, 0, 1945848.0,\n",
        "               4928089.33, 0, 0, 0, 0, 0, 1974249.75, 0, 0, 2653987.5, 0, 0 ])\n",
        "\n",
        "plt.scatter(x_07_club, y_07_salaries)\n",
        "plt.xticks(rotation = 90);\n",
        "\n",
        "#2008 Graph\n",
        "x_08_club = (['ATL', 'CHI', 'CHV', 'CLB', 'COL', 'DAL', 'DC', 'HOU', 'KC', 'LA', 'LAFC', \n",
        "           'MNUFC', 'MTL', 'NE', 'NY', 'NYCFC', 'NYRB', 'ORL', 'PHI', 'POR', 'RSL' ,\n",
        "           'SEA', 'SJ', 'TFC', 'TOR', 'VAN']) \n",
        "y_08_salaries = ([0, 4808167.25, 2487846.19, 2372680.81, 2515949.54, 2553060.31,\n",
        "               4881668.85, 2457094.46, 2551054.0, 9177665.6, 0, 0, 0, 2215295.5, \n",
        "               3367589.2, 0, 0, 0, 0, 0, 2418376.32, 0, 2503382.38, 2726478.8, \n",
        "               0, 0])\n",
        "\n",
        "plt.scatter(x_08_club, y_08_salaries)\n",
        "plt.xticks(rotation = 90);\n",
        "\n",
        "\n",
        "\n",
        "\n",
        "\n",
        "\n",
        "\n",
        "\n",
        "\n",
        "\n",
        "\n",
        "\n",
        "\n",
        "\n",
        "\n",
        "\n",
        "\n",
        "\n",
        "\n",
        "\n",
        "\n",
        "\n",
        "\n",
        "\n"
      ],
      "execution_count": null,
      "outputs": [
        {
          "output_type": "display_data",
          "data": {
            "image/png": "[encoded data removed]",
            "text/plain": [
              "<Figure size 432x288 with 1 Axes>"
            ]
          },
          "metadata": {
            "tags": [],
            "needs_background": "light"
          }
        }
      ]
    }
  ]
}